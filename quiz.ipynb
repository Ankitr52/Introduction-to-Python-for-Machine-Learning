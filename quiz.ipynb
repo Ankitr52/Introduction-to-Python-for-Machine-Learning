{
 "cells": [
  {
   "cell_type": "code",
   "execution_count": 44,
   "id": "fcc3c49b",
   "metadata": {},
   "outputs": [],
   "source": [
    "import pandas as pd\n",
    "import numpy as np"
   ]
  },
  {
   "cell_type": "code",
   "execution_count": 45,
   "id": "bad2960d",
   "metadata": {},
   "outputs": [],
   "source": [
    "file_path = r\"C:\\Users\\ankit\\Downloads\\FoodBalanceSheets_E_Africa_NOFLAG.csv\"\n",
    "df = pd.read_csv(file_path, encoding='latin-1')"
   ]
  },
  {
   "cell_type": "code",
   "execution_count": 46,
   "id": "9a1d25b6",
   "metadata": {},
   "outputs": [
    {
     "name": "stdout",
     "output_type": "stream",
     "text": [
      "       Area Code      Area  Item Code           Item  Element Code  \\\n",
      "0              4   Algeria       2501     Population           511   \n",
      "1              4   Algeria       2501     Population          5301   \n",
      "2              4   Algeria       2901    Grand Total           664   \n",
      "3              4   Algeria       2901    Grand Total           674   \n",
      "4              4   Algeria       2901    Grand Total           684   \n",
      "...          ...       ...        ...            ...           ...   \n",
      "60938        181  Zimbabwe       2899  Miscellaneous          5142   \n",
      "60939        181  Zimbabwe       2899  Miscellaneous           645   \n",
      "60940        181  Zimbabwe       2899  Miscellaneous           664   \n",
      "60941        181  Zimbabwe       2899  Miscellaneous           674   \n",
      "60942        181  Zimbabwe       2899  Miscellaneous           684   \n",
      "\n",
      "                                      Element             Unit     Y2014  \\\n",
      "0               Total Population - Both sexes     1000 persons  38924.00   \n",
      "1                    Domestic supply quantity      1000 tonnes      0.00   \n",
      "2               Food supply (kcal/capita/day)  kcal/capita/day   3377.00   \n",
      "3      Protein supply quantity (g/capita/day)     g/capita/day     94.90   \n",
      "4          Fat supply quantity (g/capita/day)     g/capita/day     80.06   \n",
      "...                                       ...              ...       ...   \n",
      "60938                                    Food      1000 tonnes     42.00   \n",
      "60939     Food supply quantity (kg/capita/yr)               kg      3.06   \n",
      "60940           Food supply (kcal/capita/day)  kcal/capita/day      3.00   \n",
      "60941  Protein supply quantity (g/capita/day)     g/capita/day      0.10   \n",
      "60942      Fat supply quantity (g/capita/day)     g/capita/day      0.04   \n",
      "\n",
      "          Y2015     Y2016     Y2017     Y2018  \n",
      "0      39728.00  40551.00  41389.00  42228.00  \n",
      "1          0.00      0.00      0.00      0.00  \n",
      "2       3379.00   3372.00   3341.00   3322.00  \n",
      "3         94.35     94.72     92.82     91.83  \n",
      "4         79.36     77.40     80.19     77.28  \n",
      "...         ...       ...       ...       ...  \n",
      "60938     46.00     33.00     19.00     16.00  \n",
      "60939      3.33      2.35      1.33      1.08  \n",
      "60940      4.00      3.00      1.00      1.00  \n",
      "60941      0.11      0.08      0.04      0.04  \n",
      "60942      0.05      0.03      0.02      0.01  \n",
      "\n",
      "[60943 rows x 12 columns]\n"
     ]
    }
   ],
   "source": [
    "##Question 1\n",
    "print(df.iloc[:])"
   ]
  },
  {
   "cell_type": "code",
   "execution_count": 47,
   "id": "2fbae536",
   "metadata": {},
   "outputs": [
    {
     "name": "stdout",
     "output_type": "stream",
     "text": [
      "Number of features: 3\n",
      "Number of observations: 100\n"
     ]
    }
   ],
   "source": [
    "##Question 2\n",
    "dimensions = (100, 3)\n",
    "\n",
    "num_features = dimensions[1]\n",
    "num_observations = dimensions[0]\n",
    "\n",
    "\n",
    "print(\"Number of features:\", num_features)\n",
    "print(\"Number of observations:\", num_observations)\n"
   ]
  },
  {
   "cell_type": "code",
   "execution_count": 48,
   "id": "55bdbabc",
   "metadata": {},
   "outputs": [
    {
     "ename": "TypeError",
     "evalue": "'tuple' object does not support item assignment",
     "output_type": "error",
     "traceback": [
      "\u001b[1;31m---------------------------------------------------------------------------\u001b[0m",
      "\u001b[1;31mTypeError\u001b[0m                                 Traceback (most recent call last)",
      "Cell \u001b[1;32mIn[48], line 3\u001b[0m\n\u001b[0;32m      1\u001b[0m \u001b[38;5;66;03m##Question 3\u001b[39;00m\n\u001b[0;32m      2\u001b[0m my_tuple \u001b[38;5;241m=\u001b[39m (\u001b[38;5;241m1\u001b[39m, \u001b[38;5;241m2\u001b[39m, \u001b[38;5;241m5\u001b[39m, \u001b[38;5;241m8\u001b[39m)\n\u001b[1;32m----> 3\u001b[0m my_tuple[\u001b[38;5;241m2\u001b[39m] \u001b[38;5;241m=\u001b[39m \u001b[38;5;241m6\u001b[39m\n",
      "\u001b[1;31mTypeError\u001b[0m: 'tuple' object does not support item assignment"
     ]
    }
   ],
   "source": [
    "##Question 3\n",
    "my_tuple = (1, 2, 5, 8)\n",
    "my_tuple[2] = 6\n"
   ]
  },
  {
   "cell_type": "code",
   "execution_count": 49,
   "id": "11fec92b",
   "metadata": {},
   "outputs": [
    {
     "name": "stdout",
     "output_type": "stream",
     "text": [
      "Y2017    19102.77\n",
      "Name: Guinea-Bissau, dtype: float64\n"
     ]
    }
   ],
   "source": [
    "##Question 4\n",
    "q1 = df[['Y2017','Area']].groupby('Area').sum()\n",
    "print(q1.sort_values(by='Y2017').iloc[6])"
   ]
  },
  {
   "cell_type": "code",
   "execution_count": 50,
   "id": "bfe06ce4",
   "metadata": {},
   "outputs": [
    {
     "name": "stdout",
     "output_type": "stream",
     "text": [
      "Total Protein supply quantity in Madagascar in 2015: 126674.9\n"
     ]
    }
   ],
   "source": [
    "##Question 5\n",
    "import pandas as pd\n",
    "import pandas as pd\n",
    "\n",
    "madagascar_2015 = df[(df['Area'] == 'Madagascar') & (df['Y2015'].notnull())]['Y2015']\n",
    "\n",
    "total_protein_supply_2015 = madagascar_2015.sum()\n",
    "\n",
    "print(\"Total Protein supply quantity in Madagascar in 2015:\", total_protein_supply_2015)\n",
    "\n"
   ]
  },
  {
   "cell_type": "code",
   "execution_count": 51,
   "id": "769900d7",
   "metadata": {},
   "outputs": [
    {
     "data": {
      "text/plain": [
       "(60943, 12)"
      ]
     },
     "execution_count": 51,
     "metadata": {},
     "output_type": "execute_result"
    }
   ],
   "source": [
    "##Question 8\n",
    "df.shape"
   ]
  },
  {
   "cell_type": "code",
   "execution_count": 52,
   "id": "dfbe3cbb",
   "metadata": {},
   "outputs": [
    {
     "name": "stdout",
     "output_type": "stream",
     "text": [
      "8\n"
     ]
    }
   ],
   "source": [
    "##Question 9\n",
    "y = [(2, 4), (7, 8), (1, 5, 9)]\n",
    "print(y[1][1])"
   ]
  },
  {
   "cell_type": "code",
   "execution_count": 53,
   "id": "21ff806b",
   "metadata": {},
   "outputs": [
    {
     "name": "stdout",
     "output_type": "stream",
     "text": [
      "[[89 63]\n",
      " [92 48]]\n"
     ]
    }
   ],
   "source": [
    "##Question 10\n",
    "array  = ([[94, 89, 63],\n",
    "           [93, 92, 48],\n",
    "           [92, 94, 56]])\n",
    "a = np.array(array)\n",
    "print(a[:2,1:])"
   ]
  },
  {
   "cell_type": "code",
   "execution_count": 54,
   "id": "e9366538",
   "metadata": {},
   "outputs": [
    {
     "name": "stdout",
     "output_type": "stream",
     "text": [
      "[[89 63]\n",
      " [92 48]]\n",
      "140.92\n",
      "1671.86\n"
     ]
    }
   ],
   "source": [
    "##Question 18\n",
    "array  = ([[94, 89, 63],\n",
    "           [93, 92, 48],\n",
    "           [92, 94, 56]])\n",
    "a = np.array(array)\n",
    "print(a[:2,1:])\n",
    "q2 = df['Y2017'].mean()\n",
    "q2a = df['Y2017'].std()\n",
    "print(round(q2, 2))\n",
    "print(round(q2a, 2))\n",
    "     "
   ]
  },
  {
   "cell_type": "code",
   "execution_count": 55,
   "id": "6eaa03ea",
   "metadata": {},
   "outputs": [
    {
     "name": "stdout",
     "output_type": "stream",
     "text": [
      "292836.0\n"
     ]
    },
    {
     "name": "stderr",
     "output_type": "stream",
     "text": [
      "C:\\Users\\ankit\\AppData\\Local\\Temp\\ipykernel_9420\\2491417882.py:2: FutureWarning: The default value of numeric_only in DataFrameGroupBy.sum is deprecated. In a future version, numeric_only will default to False. Either specify numeric_only or select only columns which should be valid for the function.\n",
      "  q6 = df.groupby('Element').sum().loc['Processing']['Y2017']\n"
     ]
    }
   ],
   "source": [
    "##19\n",
    "q6 = df.groupby('Element').sum().loc['Processing']['Y2017']\n",
    "print(q6)"
   ]
  },
  {
   "cell_type": "code",
   "execution_count": null,
   "id": "347f8550",
   "metadata": {},
   "outputs": [],
   "source": []
  },
  {
   "cell_type": "code",
   "execution_count": null,
   "id": "f97418a8",
   "metadata": {},
   "outputs": [],
   "source": []
  },
  {
   "cell_type": "code",
   "execution_count": null,
   "id": "3472ca83",
   "metadata": {},
   "outputs": [],
   "source": []
  },
  {
   "cell_type": "code",
   "execution_count": null,
   "id": "82684a56",
   "metadata": {},
   "outputs": [],
   "source": []
  },
  {
   "cell_type": "code",
   "execution_count": null,
   "id": "8de84718",
   "metadata": {},
   "outputs": [],
   "source": []
  },
  {
   "cell_type": "code",
   "execution_count": null,
   "id": "81dd555a",
   "metadata": {},
   "outputs": [],
   "source": []
  },
  {
   "cell_type": "code",
   "execution_count": null,
   "id": "e0f72c3c",
   "metadata": {},
   "outputs": [],
   "source": []
  },
  {
   "cell_type": "code",
   "execution_count": 35,
   "id": "2e0688cd",
   "metadata": {},
   "outputs": [
    {
     "name": "stdout",
     "output_type": "stream",
     "text": [
      "140.92\n",
      "1671.86\n"
     ]
    }
   ],
   "source": []
  },
  {
   "cell_type": "code",
   "execution_count": 39,
   "id": "a0864e47",
   "metadata": {},
   "outputs": [
    {
     "name": "stdout",
     "output_type": "stream",
     "text": [
      "292836.0\n"
     ]
    },
    {
     "name": "stderr",
     "output_type": "stream",
     "text": [
      "C:\\Users\\ankit\\AppData\\Local\\Temp\\ipykernel_9420\\2491417882.py:2: FutureWarning: The default value of numeric_only in DataFrameGroupBy.sum is deprecated. In a future version, numeric_only will default to False. Either specify numeric_only or select only columns which should be valid for the function.\n",
      "  q6 = df.groupby('Element').sum().loc['Processing']['Y2017']\n"
     ]
    }
   ],
   "source": []
  },
  {
   "cell_type": "code",
   "execution_count": null,
   "id": "4478d19f",
   "metadata": {},
   "outputs": [],
   "source": []
  }
 ],
 "metadata": {
  "kernelspec": {
   "display_name": "Python 3 (ipykernel)",
   "language": "python",
   "name": "python3"
  },
  "language_info": {
   "codemirror_mode": {
    "name": "ipython",
    "version": 3
   },
   "file_extension": ".py",
   "mimetype": "text/x-python",
   "name": "python",
   "nbconvert_exporter": "python",
   "pygments_lexer": "ipython3",
   "version": "3.10.9"
  }
 },
 "nbformat": 4,
 "nbformat_minor": 5
}
